{
  "cells": [
    {
      "cell_type": "code",
      "execution_count": 2,
      "metadata": {
        "id": "qVLFVWb-toVc"
      },
      "outputs": [],
      "source": [
        "import numpy as np\n",
        "import pandas as pd\n",
        "import seaborn as sns\n",
        "import matplotlib.pyplot as plt\n",
        "from sklearn.metrics import accuracy_score, confusion_matrix"
      ]
    },
    {
      "cell_type": "code",
      "execution_count": 3,
      "metadata": {
        "id": "SP2VU0S8t_Ih"
      },
      "outputs": [],
      "source": [
        "data=pd.read_csv('data.csv')"
      ]
    },
    {
      "cell_type": "code",
      "execution_count": 4,
      "metadata": {
        "colab": {
          "base_uri": "https://localhost:8080/",
          "height": 206
        },
        "id": "hVnCkyAbuEBO",
        "outputId": "1e1a53ed-01e1-4620-a036-5e5796a38bea"
      },
      "outputs": [
        {
          "data": {
            "text/html": [
              "<div>\n",
              "<style scoped>\n",
              "    .dataframe tbody tr th:only-of-type {\n",
              "        vertical-align: middle;\n",
              "    }\n",
              "\n",
              "    .dataframe tbody tr th {\n",
              "        vertical-align: top;\n",
              "    }\n",
              "\n",
              "    .dataframe thead th {\n",
              "        text-align: right;\n",
              "    }\n",
              "</style>\n",
              "<table border=\"1\" class=\"dataframe\">\n",
              "  <thead>\n",
              "    <tr style=\"text-align: right;\">\n",
              "      <th></th>\n",
              "      <th>Species</th>\n",
              "      <th>Weight</th>\n",
              "      <th>Length1</th>\n",
              "      <th>Length2</th>\n",
              "      <th>Length3</th>\n",
              "      <th>Height</th>\n",
              "      <th>Width</th>\n",
              "    </tr>\n",
              "  </thead>\n",
              "  <tbody>\n",
              "    <tr>\n",
              "      <th>0</th>\n",
              "      <td>Bream</td>\n",
              "      <td>242.0</td>\n",
              "      <td>23.2</td>\n",
              "      <td>25.4</td>\n",
              "      <td>30.0</td>\n",
              "      <td>11.5200</td>\n",
              "      <td>4.0200</td>\n",
              "    </tr>\n",
              "    <tr>\n",
              "      <th>1</th>\n",
              "      <td>Bream</td>\n",
              "      <td>290.0</td>\n",
              "      <td>24.0</td>\n",
              "      <td>26.3</td>\n",
              "      <td>31.2</td>\n",
              "      <td>12.4800</td>\n",
              "      <td>4.3056</td>\n",
              "    </tr>\n",
              "    <tr>\n",
              "      <th>2</th>\n",
              "      <td>Bream</td>\n",
              "      <td>340.0</td>\n",
              "      <td>23.9</td>\n",
              "      <td>26.5</td>\n",
              "      <td>31.1</td>\n",
              "      <td>12.3778</td>\n",
              "      <td>4.6961</td>\n",
              "    </tr>\n",
              "    <tr>\n",
              "      <th>3</th>\n",
              "      <td>Bream</td>\n",
              "      <td>363.0</td>\n",
              "      <td>26.3</td>\n",
              "      <td>29.0</td>\n",
              "      <td>33.5</td>\n",
              "      <td>12.7300</td>\n",
              "      <td>4.4555</td>\n",
              "    </tr>\n",
              "    <tr>\n",
              "      <th>4</th>\n",
              "      <td>Bream</td>\n",
              "      <td>430.0</td>\n",
              "      <td>26.5</td>\n",
              "      <td>29.0</td>\n",
              "      <td>34.0</td>\n",
              "      <td>12.4440</td>\n",
              "      <td>5.1340</td>\n",
              "    </tr>\n",
              "  </tbody>\n",
              "</table>\n",
              "</div>"
            ],
            "text/plain": [
              "  Species  Weight  Length1  Length2  Length3   Height   Width\n",
              "0   Bream   242.0     23.2     25.4     30.0  11.5200  4.0200\n",
              "1   Bream   290.0     24.0     26.3     31.2  12.4800  4.3056\n",
              "2   Bream   340.0     23.9     26.5     31.1  12.3778  4.6961\n",
              "3   Bream   363.0     26.3     29.0     33.5  12.7300  4.4555\n",
              "4   Bream   430.0     26.5     29.0     34.0  12.4440  5.1340"
            ]
          },
          "execution_count": 4,
          "metadata": {},
          "output_type": "execute_result"
        }
      ],
      "source": [
        "# five elements from top\n",
        "data.head()"
      ]
    },
    {
      "cell_type": "code",
      "execution_count": 5,
      "metadata": {},
      "outputs": [
        {
          "data": {
            "text/plain": [
              "Species    0\n",
              "Weight     0\n",
              "Length1    0\n",
              "Length2    0\n",
              "Length3    0\n",
              "Height     0\n",
              "Width      0\n",
              "dtype: int64"
            ]
          },
          "execution_count": 5,
          "metadata": {},
          "output_type": "execute_result"
        }
      ],
      "source": [
        "# any missing values\n",
        "data.isnull().sum()"
      ]
    },
    {
      "cell_type": "code",
      "execution_count": 6,
      "metadata": {
        "colab": {
          "base_uri": "https://localhost:8080/"
        },
        "id": "tER7hkP7uHTm",
        "outputId": "53c6c57a-4e31-4c0b-f0db-be4a1a2deb72"
      },
      "outputs": [
        {
          "data": {
            "text/plain": [
              "Perch        56\n",
              "Bream        35\n",
              "Roach        20\n",
              "Pike         17\n",
              "Smelt        14\n",
              "Parkki       11\n",
              "Whitefish     6\n",
              "Name: Species, dtype: int64"
            ]
          },
          "execution_count": 6,
          "metadata": {},
          "output_type": "execute_result"
        }
      ],
      "source": [
        "data['Species'].value_counts()"
      ]
    },
    {
      "cell_type": "code",
      "execution_count": null,
      "metadata": {
        "colab": {
          "base_uri": "https://localhost:8080/",
          "height": 676
        },
        "id": "rcTll0_6uJNH",
        "outputId": "2c84498e-908b-48c7-8594-cd0327dba4e1"
      },
      "outputs": [],
      "source": [
        "#understand the distribution of fish species\n",
        "plt.figure(figsize=(15,10))\n",
        "sns.countplot(data['Species'])\n",
        "plt.xlabel('Species')\n",
        "plt.ylabel('Count')\n",
        "plt.title('Countplot for Species')\n",
        "plt.show()"
      ]
    },
    {
      "cell_type": "code",
      "execution_count": 8,
      "metadata": {
        "id": "Ncm-RNWmuLuS"
      },
      "outputs": [],
      "source": [
        "# creating the class numeric values\n",
        "enc={'Bream':1,'Roach':2,'Whitefish':3,'Parkki':4,'Perch':5,'Pike':6,'Smelt':7}\n",
        "data['Species']=data['Species'].map(enc)"
      ]
    },
    {
      "cell_type": "code",
      "execution_count": 9,
      "metadata": {},
      "outputs": [
        {
          "data": {
            "text/html": [
              "<div>\n",
              "<style scoped>\n",
              "    .dataframe tbody tr th:only-of-type {\n",
              "        vertical-align: middle;\n",
              "    }\n",
              "\n",
              "    .dataframe tbody tr th {\n",
              "        vertical-align: top;\n",
              "    }\n",
              "\n",
              "    .dataframe thead th {\n",
              "        text-align: right;\n",
              "    }\n",
              "</style>\n",
              "<table border=\"1\" class=\"dataframe\">\n",
              "  <thead>\n",
              "    <tr style=\"text-align: right;\">\n",
              "      <th></th>\n",
              "      <th>Species</th>\n",
              "      <th>Weight</th>\n",
              "      <th>Length1</th>\n",
              "      <th>Length2</th>\n",
              "      <th>Length3</th>\n",
              "      <th>Height</th>\n",
              "      <th>Width</th>\n",
              "    </tr>\n",
              "  </thead>\n",
              "  <tbody>\n",
              "    <tr>\n",
              "      <th>0</th>\n",
              "      <td>1</td>\n",
              "      <td>242.0</td>\n",
              "      <td>23.2</td>\n",
              "      <td>25.4</td>\n",
              "      <td>30.0</td>\n",
              "      <td>11.5200</td>\n",
              "      <td>4.0200</td>\n",
              "    </tr>\n",
              "    <tr>\n",
              "      <th>1</th>\n",
              "      <td>1</td>\n",
              "      <td>290.0</td>\n",
              "      <td>24.0</td>\n",
              "      <td>26.3</td>\n",
              "      <td>31.2</td>\n",
              "      <td>12.4800</td>\n",
              "      <td>4.3056</td>\n",
              "    </tr>\n",
              "    <tr>\n",
              "      <th>2</th>\n",
              "      <td>1</td>\n",
              "      <td>340.0</td>\n",
              "      <td>23.9</td>\n",
              "      <td>26.5</td>\n",
              "      <td>31.1</td>\n",
              "      <td>12.3778</td>\n",
              "      <td>4.6961</td>\n",
              "    </tr>\n",
              "    <tr>\n",
              "      <th>3</th>\n",
              "      <td>1</td>\n",
              "      <td>363.0</td>\n",
              "      <td>26.3</td>\n",
              "      <td>29.0</td>\n",
              "      <td>33.5</td>\n",
              "      <td>12.7300</td>\n",
              "      <td>4.4555</td>\n",
              "    </tr>\n",
              "    <tr>\n",
              "      <th>4</th>\n",
              "      <td>1</td>\n",
              "      <td>430.0</td>\n",
              "      <td>26.5</td>\n",
              "      <td>29.0</td>\n",
              "      <td>34.0</td>\n",
              "      <td>12.4440</td>\n",
              "      <td>5.1340</td>\n",
              "    </tr>\n",
              "    <tr>\n",
              "      <th>...</th>\n",
              "      <td>...</td>\n",
              "      <td>...</td>\n",
              "      <td>...</td>\n",
              "      <td>...</td>\n",
              "      <td>...</td>\n",
              "      <td>...</td>\n",
              "      <td>...</td>\n",
              "    </tr>\n",
              "    <tr>\n",
              "      <th>154</th>\n",
              "      <td>7</td>\n",
              "      <td>12.2</td>\n",
              "      <td>11.5</td>\n",
              "      <td>12.2</td>\n",
              "      <td>13.4</td>\n",
              "      <td>2.0904</td>\n",
              "      <td>1.3936</td>\n",
              "    </tr>\n",
              "    <tr>\n",
              "      <th>155</th>\n",
              "      <td>7</td>\n",
              "      <td>13.4</td>\n",
              "      <td>11.7</td>\n",
              "      <td>12.4</td>\n",
              "      <td>13.5</td>\n",
              "      <td>2.4300</td>\n",
              "      <td>1.2690</td>\n",
              "    </tr>\n",
              "    <tr>\n",
              "      <th>156</th>\n",
              "      <td>7</td>\n",
              "      <td>12.2</td>\n",
              "      <td>12.1</td>\n",
              "      <td>13.0</td>\n",
              "      <td>13.8</td>\n",
              "      <td>2.2770</td>\n",
              "      <td>1.2558</td>\n",
              "    </tr>\n",
              "    <tr>\n",
              "      <th>157</th>\n",
              "      <td>7</td>\n",
              "      <td>19.7</td>\n",
              "      <td>13.2</td>\n",
              "      <td>14.3</td>\n",
              "      <td>15.2</td>\n",
              "      <td>2.8728</td>\n",
              "      <td>2.0672</td>\n",
              "    </tr>\n",
              "    <tr>\n",
              "      <th>158</th>\n",
              "      <td>7</td>\n",
              "      <td>19.9</td>\n",
              "      <td>13.8</td>\n",
              "      <td>15.0</td>\n",
              "      <td>16.2</td>\n",
              "      <td>2.9322</td>\n",
              "      <td>1.8792</td>\n",
              "    </tr>\n",
              "  </tbody>\n",
              "</table>\n",
              "<p>159 rows × 7 columns</p>\n",
              "</div>"
            ],
            "text/plain": [
              "     Species  Weight  Length1  Length2  Length3   Height   Width\n",
              "0          1   242.0     23.2     25.4     30.0  11.5200  4.0200\n",
              "1          1   290.0     24.0     26.3     31.2  12.4800  4.3056\n",
              "2          1   340.0     23.9     26.5     31.1  12.3778  4.6961\n",
              "3          1   363.0     26.3     29.0     33.5  12.7300  4.4555\n",
              "4          1   430.0     26.5     29.0     34.0  12.4440  5.1340\n",
              "..       ...     ...      ...      ...      ...      ...     ...\n",
              "154        7    12.2     11.5     12.2     13.4   2.0904  1.3936\n",
              "155        7    13.4     11.7     12.4     13.5   2.4300  1.2690\n",
              "156        7    12.2     12.1     13.0     13.8   2.2770  1.2558\n",
              "157        7    19.7     13.2     14.3     15.2   2.8728  2.0672\n",
              "158        7    19.9     13.8     15.0     16.2   2.9322  1.8792\n",
              "\n",
              "[159 rows x 7 columns]"
            ]
          },
          "execution_count": 9,
          "metadata": {},
          "output_type": "execute_result"
        }
      ],
      "source": [
        "data"
      ]
    },
    {
      "cell_type": "code",
      "execution_count": 11,
      "metadata": {
        "colab": {
          "base_uri": "https://localhost:8080/"
        },
        "id": "ZznIwl9vuQBX",
        "outputId": "1be1c5cc-7b81-4e17-91e6-9f42f914d1d5"
      },
      "outputs": [
        {
          "name": "stdout",
          "output_type": "stream",
          "text": [
            "(159,) (159, 6)\n"
          ]
        }
      ],
      "source": [
        "#define x and y columns\n",
        "y=data['Species']\n",
        "x=data.drop('Species',axis=1)\n",
        "print(y.shape,x.shape)"
      ]
    },
    {
      "cell_type": "code",
      "execution_count": 12,
      "metadata": {
        "colab": {
          "base_uri": "https://localhost:8080/",
          "height": 206
        },
        "id": "8AzeG_fyuR1u",
        "outputId": "a5eae475-bcb2-41d9-be7f-98e687e62771"
      },
      "outputs": [
        {
          "data": {
            "text/html": [
              "<div>\n",
              "<style scoped>\n",
              "    .dataframe tbody tr th:only-of-type {\n",
              "        vertical-align: middle;\n",
              "    }\n",
              "\n",
              "    .dataframe tbody tr th {\n",
              "        vertical-align: top;\n",
              "    }\n",
              "\n",
              "    .dataframe thead th {\n",
              "        text-align: right;\n",
              "    }\n",
              "</style>\n",
              "<table border=\"1\" class=\"dataframe\">\n",
              "  <thead>\n",
              "    <tr style=\"text-align: right;\">\n",
              "      <th></th>\n",
              "      <th>Weight</th>\n",
              "      <th>Length1</th>\n",
              "      <th>Length2</th>\n",
              "      <th>Length3</th>\n",
              "      <th>Height</th>\n",
              "      <th>Width</th>\n",
              "    </tr>\n",
              "  </thead>\n",
              "  <tbody>\n",
              "    <tr>\n",
              "      <th>0</th>\n",
              "      <td>-0.438072</td>\n",
              "      <td>-0.305789</td>\n",
              "      <td>-0.282303</td>\n",
              "      <td>-0.106020</td>\n",
              "      <td>0.596579</td>\n",
              "      <td>-0.236529</td>\n",
              "    </tr>\n",
              "    <tr>\n",
              "      <th>1</th>\n",
              "      <td>-0.303562</td>\n",
              "      <td>-0.225507</td>\n",
              "      <td>-0.198054</td>\n",
              "      <td>-0.002337</td>\n",
              "      <td>0.821261</td>\n",
              "      <td>-0.066579</td>\n",
              "    </tr>\n",
              "    <tr>\n",
              "      <th>2</th>\n",
              "      <td>-0.163448</td>\n",
              "      <td>-0.235542</td>\n",
              "      <td>-0.179332</td>\n",
              "      <td>-0.010977</td>\n",
              "      <td>0.797341</td>\n",
              "      <td>0.165793</td>\n",
              "    </tr>\n",
              "    <tr>\n",
              "      <th>3</th>\n",
              "      <td>-0.098995</td>\n",
              "      <td>0.005302</td>\n",
              "      <td>0.054694</td>\n",
              "      <td>0.196390</td>\n",
              "      <td>0.879771</td>\n",
              "      <td>0.022621</td>\n",
              "    </tr>\n",
              "    <tr>\n",
              "      <th>4</th>\n",
              "      <td>0.088759</td>\n",
              "      <td>0.025372</td>\n",
              "      <td>0.054694</td>\n",
              "      <td>0.239592</td>\n",
              "      <td>0.812835</td>\n",
              "      <td>0.426371</td>\n",
              "    </tr>\n",
              "  </tbody>\n",
              "</table>\n",
              "</div>"
            ],
            "text/plain": [
              "     Weight   Length1   Length2   Length3    Height     Width\n",
              "0 -0.438072 -0.305789 -0.282303 -0.106020  0.596579 -0.236529\n",
              "1 -0.303562 -0.225507 -0.198054 -0.002337  0.821261 -0.066579\n",
              "2 -0.163448 -0.235542 -0.179332 -0.010977  0.797341  0.165793\n",
              "3 -0.098995  0.005302  0.054694  0.196390  0.879771  0.022621\n",
              "4  0.088759  0.025372  0.054694  0.239592  0.812835  0.426371"
            ]
          },
          "execution_count": 12,
          "metadata": {},
          "output_type": "execute_result"
        }
      ],
      "source": [
        "#apply standad scaler for preprocessing data\n",
        "from sklearn.preprocessing import StandardScaler\n",
        "sc=StandardScaler()\n",
        "col=list(x.columns)\n",
        "x[col]=sc.fit_transform(x[col])\n",
        "x.head()"
      ]
    },
    {
      "cell_type": "code",
      "execution_count": 13,
      "metadata": {
        "colab": {
          "base_uri": "https://localhost:8080/"
        },
        "id": "S3csMEBRuXIX",
        "outputId": "423a7345-6693-48c1-ae9e-62dfe92aa54d"
      },
      "outputs": [
        {
          "name": "stdout",
          "output_type": "stream",
          "text": [
            "(127, 6) (127,)\n",
            "(32, 6) (32,)\n"
          ]
        }
      ],
      "source": [
        "from sklearn.model_selection import train_test_split as tts,GridSearchCV\n",
        "xtrain,xtest,ytrain,ytest=tts(x,y,test_size=0.2,random_state=12)\n",
        "print(xtrain.shape,ytrain.shape)\n",
        "print(xtest.shape,ytest.shape)"
      ]
    },
    {
      "cell_type": "code",
      "execution_count": 14,
      "metadata": {
        "colab": {
          "base_uri": "https://localhost:8080/"
        },
        "id": "4U3EX3LOuZxe",
        "outputId": "737941dc-a771-4697-fb22-b84aadcbaaea"
      },
      "outputs": [
        {
          "name": "stdout",
          "output_type": "stream",
          "text": [
            "The accuracy score was found to be:  90.625\n",
            "The confusion matrix of the model is:\n",
            " [[ 8  0  0  0  0  0]\n",
            " [ 0  1  0  3  0  0]\n",
            " [ 0  0  3  0  0  0]\n",
            " [ 0  0  0 12  0  0]\n",
            " [ 0  0  0  0  3  0]\n",
            " [ 0  0  0  0  0  2]]\n"
          ]
        }
      ],
      "source": [
        "\n",
        "from sklearn.linear_model import LogisticRegression\n",
        "m1=LogisticRegression(max_iter=1000)\n",
        "m1.fit(xtrain,ytrain)\n",
        "ypred=m1.predict(xtest)\n",
        "print(\"The accuracy score was found to be: \",accuracy_score(ytest,ypred)*100)\n",
        "print(\"The confusion matrix of the model is:\\n\",confusion_matrix(ytest,ypred))"
      ]
    },
    {
      "cell_type": "code",
      "execution_count": 15,
      "metadata": {},
      "outputs": [],
      "source": [
        "import pickle\n",
        "filename_pkl = \"model.pkl\"  \n",
        "\n",
        "with open(filename_pkl, 'wb') as file:  \n",
        "    pickle.dump(m1, file)"
      ]
    },
    {
      "cell_type": "code",
      "execution_count": 16,
      "metadata": {},
      "outputs": [
        {
          "data": {
            "text/html": [
              "<style>#sk-container-id-1 {color: black;background-color: white;}#sk-container-id-1 pre{padding: 0;}#sk-container-id-1 div.sk-toggleable {background-color: white;}#sk-container-id-1 label.sk-toggleable__label {cursor: pointer;display: block;width: 100%;margin-bottom: 0;padding: 0.3em;box-sizing: border-box;text-align: center;}#sk-container-id-1 label.sk-toggleable__label-arrow:before {content: \"▸\";float: left;margin-right: 0.25em;color: #696969;}#sk-container-id-1 label.sk-toggleable__label-arrow:hover:before {color: black;}#sk-container-id-1 div.sk-estimator:hover label.sk-toggleable__label-arrow:before {color: black;}#sk-container-id-1 div.sk-toggleable__content {max-height: 0;max-width: 0;overflow: hidden;text-align: left;background-color: #f0f8ff;}#sk-container-id-1 div.sk-toggleable__content pre {margin: 0.2em;color: black;border-radius: 0.25em;background-color: #f0f8ff;}#sk-container-id-1 input.sk-toggleable__control:checked~div.sk-toggleable__content {max-height: 200px;max-width: 100%;overflow: auto;}#sk-container-id-1 input.sk-toggleable__control:checked~label.sk-toggleable__label-arrow:before {content: \"▾\";}#sk-container-id-1 div.sk-estimator input.sk-toggleable__control:checked~label.sk-toggleable__label {background-color: #d4ebff;}#sk-container-id-1 div.sk-label input.sk-toggleable__control:checked~label.sk-toggleable__label {background-color: #d4ebff;}#sk-container-id-1 input.sk-hidden--visually {border: 0;clip: rect(1px 1px 1px 1px);clip: rect(1px, 1px, 1px, 1px);height: 1px;margin: -1px;overflow: hidden;padding: 0;position: absolute;width: 1px;}#sk-container-id-1 div.sk-estimator {font-family: monospace;background-color: #f0f8ff;border: 1px dotted black;border-radius: 0.25em;box-sizing: border-box;margin-bottom: 0.5em;}#sk-container-id-1 div.sk-estimator:hover {background-color: #d4ebff;}#sk-container-id-1 div.sk-parallel-item::after {content: \"\";width: 100%;border-bottom: 1px solid gray;flex-grow: 1;}#sk-container-id-1 div.sk-label:hover label.sk-toggleable__label {background-color: #d4ebff;}#sk-container-id-1 div.sk-serial::before {content: \"\";position: absolute;border-left: 1px solid gray;box-sizing: border-box;top: 0;bottom: 0;left: 50%;z-index: 0;}#sk-container-id-1 div.sk-serial {display: flex;flex-direction: column;align-items: center;background-color: white;padding-right: 0.2em;padding-left: 0.2em;position: relative;}#sk-container-id-1 div.sk-item {position: relative;z-index: 1;}#sk-container-id-1 div.sk-parallel {display: flex;align-items: stretch;justify-content: center;background-color: white;position: relative;}#sk-container-id-1 div.sk-item::before, #sk-container-id-1 div.sk-parallel-item::before {content: \"\";position: absolute;border-left: 1px solid gray;box-sizing: border-box;top: 0;bottom: 0;left: 50%;z-index: -1;}#sk-container-id-1 div.sk-parallel-item {display: flex;flex-direction: column;z-index: 1;position: relative;background-color: white;}#sk-container-id-1 div.sk-parallel-item:first-child::after {align-self: flex-end;width: 50%;}#sk-container-id-1 div.sk-parallel-item:last-child::after {align-self: flex-start;width: 50%;}#sk-container-id-1 div.sk-parallel-item:only-child::after {width: 0;}#sk-container-id-1 div.sk-dashed-wrapped {border: 1px dashed gray;margin: 0 0.4em 0.5em 0.4em;box-sizing: border-box;padding-bottom: 0.4em;background-color: white;}#sk-container-id-1 div.sk-label label {font-family: monospace;font-weight: bold;display: inline-block;line-height: 1.2em;}#sk-container-id-1 div.sk-label-container {text-align: center;}#sk-container-id-1 div.sk-container {/* jupyter's `normalize.less` sets `[hidden] { display: none; }` but bootstrap.min.css set `[hidden] { display: none !important; }` so we also need the `!important` here to be able to override the default hidden behavior on the sphinx rendered scikit-learn.org. See: https://github.com/scikit-learn/scikit-learn/issues/21755 */display: inline-block !important;position: relative;}#sk-container-id-1 div.sk-text-repr-fallback {display: none;}</style><div id=\"sk-container-id-1\" class=\"sk-top-container\"><div class=\"sk-text-repr-fallback\"><pre>LogisticRegression(max_iter=1000)</pre><b>In a Jupyter environment, please rerun this cell to show the HTML representation or trust the notebook. <br />On GitHub, the HTML representation is unable to render, please try loading this page with nbviewer.org.</b></div><div class=\"sk-container\" hidden><div class=\"sk-item\"><div class=\"sk-estimator sk-toggleable\"><input class=\"sk-toggleable__control sk-hidden--visually\" id=\"sk-estimator-id-1\" type=\"checkbox\" checked><label for=\"sk-estimator-id-1\" class=\"sk-toggleable__label sk-toggleable__label-arrow\">LogisticRegression</label><div class=\"sk-toggleable__content\"><pre>LogisticRegression(max_iter=1000)</pre></div></div></div></div></div>"
            ],
            "text/plain": [
              "LogisticRegression(max_iter=1000)"
            ]
          },
          "execution_count": 16,
          "metadata": {},
          "output_type": "execute_result"
        }
      ],
      "source": [
        "# Load the Model back from file\n",
        "with open(filename_pkl, 'rb') as file:  \n",
        "   model_pkl = pickle.load(file)\n",
        "\n",
        "model_pkl"
      ]
    },
    {
      "cell_type": "code",
      "execution_count": 17,
      "metadata": {},
      "outputs": [
        {
          "data": {
            "text/html": [
              "<div>\n",
              "<style scoped>\n",
              "    .dataframe tbody tr th:only-of-type {\n",
              "        vertical-align: middle;\n",
              "    }\n",
              "\n",
              "    .dataframe tbody tr th {\n",
              "        vertical-align: top;\n",
              "    }\n",
              "\n",
              "    .dataframe thead th {\n",
              "        text-align: right;\n",
              "    }\n",
              "</style>\n",
              "<table border=\"1\" class=\"dataframe\">\n",
              "  <thead>\n",
              "    <tr style=\"text-align: right;\">\n",
              "      <th></th>\n",
              "      <th>Weight</th>\n",
              "      <th>Length1</th>\n",
              "      <th>Length2</th>\n",
              "      <th>Length3</th>\n",
              "      <th>Height</th>\n",
              "      <th>Width</th>\n",
              "    </tr>\n",
              "  </thead>\n",
              "  <tbody>\n",
              "    <tr>\n",
              "      <th>88</th>\n",
              "      <td>-0.751929</td>\n",
              "      <td>-0.626914</td>\n",
              "      <td>-0.600578</td>\n",
              "      <td>-0.667639</td>\n",
              "      <td>-0.669597</td>\n",
              "      <td>-0.531085</td>\n",
              "    </tr>\n",
              "    <tr>\n",
              "      <th>124</th>\n",
              "      <td>1.686065</td>\n",
              "      <td>1.360049</td>\n",
              "      <td>1.365240</td>\n",
              "      <td>1.207305</td>\n",
              "      <td>0.693192</td>\n",
              "      <td>1.701710</td>\n",
              "    </tr>\n",
              "    <tr>\n",
              "      <th>45</th>\n",
              "      <td>-0.667860</td>\n",
              "      <td>-0.576738</td>\n",
              "      <td>-0.553773</td>\n",
              "      <td>-0.512114</td>\n",
              "      <td>-0.453481</td>\n",
              "      <td>-0.355363</td>\n",
              "    </tr>\n",
              "    <tr>\n",
              "      <th>90</th>\n",
              "      <td>-0.807975</td>\n",
              "      <td>-0.626914</td>\n",
              "      <td>-0.600578</td>\n",
              "      <td>-0.667639</td>\n",
              "      <td>-0.807098</td>\n",
              "      <td>-0.251406</td>\n",
              "    </tr>\n",
              "    <tr>\n",
              "      <th>31</th>\n",
              "      <td>1.559962</td>\n",
              "      <td>0.878361</td>\n",
              "      <td>0.943993</td>\n",
              "      <td>1.103621</td>\n",
              "      <td>2.132841</td>\n",
              "      <td>1.115454</td>\n",
              "    </tr>\n",
              "    <tr>\n",
              "      <th>23</th>\n",
              "      <td>0.789331</td>\n",
              "      <td>0.557236</td>\n",
              "      <td>0.616357</td>\n",
              "      <td>0.809851</td>\n",
              "      <td>1.520723</td>\n",
              "      <td>1.019411</td>\n",
              "    </tr>\n",
              "    <tr>\n",
              "      <th>154</th>\n",
              "      <td>-1.082039</td>\n",
              "      <td>-1.479903</td>\n",
              "      <td>-1.517960</td>\n",
              "      <td>-1.540309</td>\n",
              "      <td>-1.610359</td>\n",
              "      <td>-1.799403</td>\n",
              "    </tr>\n",
              "    <tr>\n",
              "      <th>143</th>\n",
              "      <td>3.227325</td>\n",
              "      <td>2.985746</td>\n",
              "      <td>2.956616</td>\n",
              "      <td>2.831680</td>\n",
              "      <td>0.147215</td>\n",
              "      <td>1.027385</td>\n",
              "    </tr>\n",
              "    <tr>\n",
              "      <th>149</th>\n",
              "      <td>-1.088764</td>\n",
              "      <td>-1.560184</td>\n",
              "      <td>-1.611570</td>\n",
              "      <td>-1.626712</td>\n",
              "      <td>-1.612044</td>\n",
              "      <td>-1.868668</td>\n",
              "    </tr>\n",
              "    <tr>\n",
              "      <th>136</th>\n",
              "      <td>0.397011</td>\n",
              "      <td>1.390155</td>\n",
              "      <td>1.365240</td>\n",
              "      <td>1.259146</td>\n",
              "      <td>-0.277340</td>\n",
              "      <td>0.423753</td>\n",
              "    </tr>\n",
              "    <tr>\n",
              "      <th>87</th>\n",
              "      <td>-0.779952</td>\n",
              "      <td>-0.626914</td>\n",
              "      <td>-0.600578</td>\n",
              "      <td>-0.667639</td>\n",
              "      <td>-0.779598</td>\n",
              "      <td>-0.531085</td>\n",
              "    </tr>\n",
              "    <tr>\n",
              "      <th>78</th>\n",
              "      <td>-0.897648</td>\n",
              "      <td>-0.948039</td>\n",
              "      <td>-0.909493</td>\n",
              "      <td>-1.021892</td>\n",
              "      <td>-0.882764</td>\n",
              "      <td>-0.770062</td>\n",
              "    </tr>\n",
              "    <tr>\n",
              "      <th>111</th>\n",
              "      <td>1.237698</td>\n",
              "      <td>0.627482</td>\n",
              "      <td>0.616357</td>\n",
              "      <td>0.524721</td>\n",
              "      <td>0.589183</td>\n",
              "      <td>2.010251</td>\n",
              "    </tr>\n",
              "    <tr>\n",
              "      <th>40</th>\n",
              "      <td>-1.116227</td>\n",
              "      <td>-0.727266</td>\n",
              "      <td>-0.740994</td>\n",
              "      <td>-0.728122</td>\n",
              "      <td>-0.584125</td>\n",
              "      <td>-0.634269</td>\n",
              "    </tr>\n",
              "    <tr>\n",
              "      <th>97</th>\n",
              "      <td>-0.709894</td>\n",
              "      <td>-0.426211</td>\n",
              "      <td>-0.413358</td>\n",
              "      <td>-0.494834</td>\n",
              "      <td>-0.607576</td>\n",
              "      <td>-0.352566</td>\n",
              "    </tr>\n",
              "    <tr>\n",
              "      <th>86</th>\n",
              "      <td>-0.779952</td>\n",
              "      <td>-0.626914</td>\n",
              "      <td>-0.600578</td>\n",
              "      <td>-0.667639</td>\n",
              "      <td>-0.669597</td>\n",
              "      <td>-0.601005</td>\n",
              "    </tr>\n",
              "    <tr>\n",
              "      <th>16</th>\n",
              "      <td>0.845377</td>\n",
              "      <td>0.416743</td>\n",
              "      <td>0.429136</td>\n",
              "      <td>0.611124</td>\n",
              "      <td>1.378378</td>\n",
              "      <td>0.516464</td>\n",
              "    </tr>\n",
              "    <tr>\n",
              "      <th>21</th>\n",
              "      <td>0.803343</td>\n",
              "      <td>0.517095</td>\n",
              "      <td>0.522746</td>\n",
              "      <td>0.688887</td>\n",
              "      <td>1.643596</td>\n",
              "      <td>0.567044</td>\n",
              "    </tr>\n",
              "    <tr>\n",
              "      <th>112</th>\n",
              "      <td>0.803343</td>\n",
              "      <td>0.778009</td>\n",
              "      <td>0.756772</td>\n",
              "      <td>0.671606</td>\n",
              "      <td>0.447025</td>\n",
              "      <td>1.455830</td>\n",
              "    </tr>\n",
              "    <tr>\n",
              "      <th>142</th>\n",
              "      <td>3.367440</td>\n",
              "      <td>2.985746</td>\n",
              "      <td>2.956616</td>\n",
              "      <td>2.831680</td>\n",
              "      <td>0.147215</td>\n",
              "      <td>1.027385</td>\n",
              "    </tr>\n",
              "    <tr>\n",
              "      <th>39</th>\n",
              "      <td>-0.779952</td>\n",
              "      <td>-0.767406</td>\n",
              "      <td>-0.787799</td>\n",
              "      <td>-0.779963</td>\n",
              "      <td>-0.644789</td>\n",
              "      <td>-0.501808</td>\n",
              "    </tr>\n",
              "    <tr>\n",
              "      <th>85</th>\n",
              "      <td>-0.751929</td>\n",
              "      <td>-0.697160</td>\n",
              "      <td>-0.666106</td>\n",
              "      <td>-0.728122</td>\n",
              "      <td>-0.605469</td>\n",
              "      <td>-0.525730</td>\n",
              "    </tr>\n",
              "    <tr>\n",
              "      <th>66</th>\n",
              "      <td>-0.723906</td>\n",
              "      <td>-0.727266</td>\n",
              "      <td>-0.722272</td>\n",
              "      <td>-0.693560</td>\n",
              "      <td>-0.101433</td>\n",
              "      <td>-0.668307</td>\n",
              "    </tr>\n",
              "    <tr>\n",
              "      <th>38</th>\n",
              "      <td>-0.872427</td>\n",
              "      <td>-0.807547</td>\n",
              "      <td>-0.806521</td>\n",
              "      <td>-0.779963</td>\n",
              "      <td>-0.785074</td>\n",
              "      <td>-0.739595</td>\n",
              "    </tr>\n",
              "    <tr>\n",
              "      <th>5</th>\n",
              "      <td>0.144804</td>\n",
              "      <td>0.055477</td>\n",
              "      <td>0.120222</td>\n",
              "      <td>0.300074</td>\n",
              "      <td>1.083951</td>\n",
              "      <td>0.303431</td>\n",
              "    </tr>\n",
              "    <tr>\n",
              "      <th>6</th>\n",
              "      <td>0.284919</td>\n",
              "      <td>0.055477</td>\n",
              "      <td>0.120222</td>\n",
              "      <td>0.282793</td>\n",
              "      <td>1.219018</td>\n",
              "      <td>0.512358</td>\n",
              "    </tr>\n",
              "    <tr>\n",
              "      <th>61</th>\n",
              "      <td>-0.962101</td>\n",
              "      <td>-1.279200</td>\n",
              "      <td>-1.283934</td>\n",
              "      <td>-1.272460</td>\n",
              "      <td>-0.496990</td>\n",
              "      <td>-1.244268</td>\n",
              "    </tr>\n",
              "    <tr>\n",
              "      <th>1</th>\n",
              "      <td>-0.303562</td>\n",
              "      <td>-0.225507</td>\n",
              "      <td>-0.198054</td>\n",
              "      <td>-0.002337</td>\n",
              "      <td>0.821261</td>\n",
              "      <td>-0.066579</td>\n",
              "    </tr>\n",
              "    <tr>\n",
              "      <th>83</th>\n",
              "      <td>-0.793963</td>\n",
              "      <td>-0.727266</td>\n",
              "      <td>-0.694189</td>\n",
              "      <td>-0.754042</td>\n",
              "      <td>-0.714651</td>\n",
              "      <td>-0.660511</td>\n",
              "    </tr>\n",
              "    <tr>\n",
              "      <th>94</th>\n",
              "      <td>-0.695883</td>\n",
              "      <td>-0.526562</td>\n",
              "      <td>-0.506968</td>\n",
              "      <td>-0.581236</td>\n",
              "      <td>-0.878247</td>\n",
              "      <td>-0.470984</td>\n",
              "    </tr>\n",
              "    <tr>\n",
              "      <th>63</th>\n",
              "      <td>-0.864020</td>\n",
              "      <td>-0.998215</td>\n",
              "      <td>-1.003103</td>\n",
              "      <td>-0.987330</td>\n",
              "      <td>-0.366464</td>\n",
              "      <td>-1.038079</td>\n",
              "    </tr>\n",
              "    <tr>\n",
              "      <th>11</th>\n",
              "      <td>0.284919</td>\n",
              "      <td>0.246146</td>\n",
              "      <td>0.241915</td>\n",
              "      <td>0.429678</td>\n",
              "      <td>1.263931</td>\n",
              "      <td>0.236308</td>\n",
              "    </tr>\n",
              "  </tbody>\n",
              "</table>\n",
              "</div>"
            ],
            "text/plain": [
              "       Weight   Length1   Length2   Length3    Height     Width\n",
              "88  -0.751929 -0.626914 -0.600578 -0.667639 -0.669597 -0.531085\n",
              "124  1.686065  1.360049  1.365240  1.207305  0.693192  1.701710\n",
              "45  -0.667860 -0.576738 -0.553773 -0.512114 -0.453481 -0.355363\n",
              "90  -0.807975 -0.626914 -0.600578 -0.667639 -0.807098 -0.251406\n",
              "31   1.559962  0.878361  0.943993  1.103621  2.132841  1.115454\n",
              "23   0.789331  0.557236  0.616357  0.809851  1.520723  1.019411\n",
              "154 -1.082039 -1.479903 -1.517960 -1.540309 -1.610359 -1.799403\n",
              "143  3.227325  2.985746  2.956616  2.831680  0.147215  1.027385\n",
              "149 -1.088764 -1.560184 -1.611570 -1.626712 -1.612044 -1.868668\n",
              "136  0.397011  1.390155  1.365240  1.259146 -0.277340  0.423753\n",
              "87  -0.779952 -0.626914 -0.600578 -0.667639 -0.779598 -0.531085\n",
              "78  -0.897648 -0.948039 -0.909493 -1.021892 -0.882764 -0.770062\n",
              "111  1.237698  0.627482  0.616357  0.524721  0.589183  2.010251\n",
              "40  -1.116227 -0.727266 -0.740994 -0.728122 -0.584125 -0.634269\n",
              "97  -0.709894 -0.426211 -0.413358 -0.494834 -0.607576 -0.352566\n",
              "86  -0.779952 -0.626914 -0.600578 -0.667639 -0.669597 -0.601005\n",
              "16   0.845377  0.416743  0.429136  0.611124  1.378378  0.516464\n",
              "21   0.803343  0.517095  0.522746  0.688887  1.643596  0.567044\n",
              "112  0.803343  0.778009  0.756772  0.671606  0.447025  1.455830\n",
              "142  3.367440  2.985746  2.956616  2.831680  0.147215  1.027385\n",
              "39  -0.779952 -0.767406 -0.787799 -0.779963 -0.644789 -0.501808\n",
              "85  -0.751929 -0.697160 -0.666106 -0.728122 -0.605469 -0.525730\n",
              "66  -0.723906 -0.727266 -0.722272 -0.693560 -0.101433 -0.668307\n",
              "38  -0.872427 -0.807547 -0.806521 -0.779963 -0.785074 -0.739595\n",
              "5    0.144804  0.055477  0.120222  0.300074  1.083951  0.303431\n",
              "6    0.284919  0.055477  0.120222  0.282793  1.219018  0.512358\n",
              "61  -0.962101 -1.279200 -1.283934 -1.272460 -0.496990 -1.244268\n",
              "1   -0.303562 -0.225507 -0.198054 -0.002337  0.821261 -0.066579\n",
              "83  -0.793963 -0.727266 -0.694189 -0.754042 -0.714651 -0.660511\n",
              "94  -0.695883 -0.526562 -0.506968 -0.581236 -0.878247 -0.470984\n",
              "63  -0.864020 -0.998215 -1.003103 -0.987330 -0.366464 -1.038079\n",
              "11   0.284919  0.246146  0.241915  0.429678  1.263931  0.236308"
            ]
          },
          "execution_count": 17,
          "metadata": {},
          "output_type": "execute_result"
        }
      ],
      "source": [
        "xtest"
      ]
    },
    {
      "cell_type": "code",
      "execution_count": 18,
      "metadata": {},
      "outputs": [
        {
          "name": "stdout",
          "output_type": "stream",
          "text": [
            "Test score: 100.00 %\n"
          ]
        },
        {
          "data": {
            "text/plain": [
              "array([5, 5, 5, 5, 1, 1, 7, 6, 7, 6, 5, 5, 5, 2, 5, 5, 1, 1, 5, 6, 5, 5,\n",
              "       4, 5, 1, 1, 4, 1, 5, 5, 4, 1], dtype=int64)"
            ]
          },
          "execution_count": 18,
          "metadata": {},
          "output_type": "execute_result"
        }
      ],
      "source": [
        "# Use the Reloaded Model to \n",
        "# Calculate the accuracy score and predict target values\n",
        "\n",
        "# Calculate the Score \n",
        "score = model_pkl.score(xtest, ypred)  \n",
        "# Print the Score\n",
        "print(\"Test score: {0:.2f} %\".format(100 * score))  \n",
        "\n",
        "# Predict the Labels using the reloaded Model\n",
        "Ypredict = model_pkl.predict(xtest)  \n",
        "\n",
        "Ypredict"
      ]
    },
    {
      "cell_type": "code",
      "execution_count": 19,
      "metadata": {},
      "outputs": [],
      "source": [
        "#def ValuePredictor(to_predict_list):\n",
        "to_predict_list=[12.2,\t11.5,\t12.2,\t13.4,\t2.0904,\t1.3936]\n",
        "\n",
        "    #return result[0]"
      ]
    },
    {
      "cell_type": "code",
      "execution_count": 20,
      "metadata": {},
      "outputs": [
        {
          "data": {
            "text/plain": [
              "array([[12.2   , 11.5   , 12.2   , 13.4   ,  2.0904,  1.3936]])"
            ]
          },
          "execution_count": 20,
          "metadata": {},
          "output_type": "execute_result"
        }
      ],
      "source": [
        "to_predict = np.array(to_predict_list).reshape(1, 6)\n",
        "to_predict\n"
      ]
    },
    {
      "cell_type": "code",
      "execution_count": 21,
      "metadata": {},
      "outputs": [],
      "source": [
        "loaded_model = pickle.load(open(\"model.pkl\", \"rb\"))\n"
      ]
    },
    {
      "cell_type": "code",
      "execution_count": 22,
      "metadata": {},
      "outputs": [
        {
          "name": "stderr",
          "output_type": "stream",
          "text": [
            "c:\\Users\\gazmi\\anaconda3\\lib\\site-packages\\sklearn\\base.py:450: UserWarning: X does not have valid feature names, but LogisticRegression was fitted with feature names\n",
            "  warnings.warn(\n"
          ]
        },
        {
          "data": {
            "text/plain": [
              "6"
            ]
          },
          "execution_count": 22,
          "metadata": {},
          "output_type": "execute_result"
        }
      ],
      "source": [
        "result = loaded_model.predict(to_predict)\n",
        "result[0]"
      ]
    }
  ],
  "metadata": {
    "colab": {
      "name": "Fish.ipynb",
      "provenance": []
    },
    "kernelspec": {
      "display_name": "Python 3.9.7 ('base')",
      "language": "python",
      "name": "python3"
    },
    "language_info": {
      "codemirror_mode": {
        "name": "ipython",
        "version": 3
      },
      "file_extension": ".py",
      "mimetype": "text/x-python",
      "name": "python",
      "nbconvert_exporter": "python",
      "pygments_lexer": "ipython3",
      "version": "3.9.7"
    },
    "vscode": {
      "interpreter": {
        "hash": "9636a28ac46820efe70c97ff8e9d84cb4b90eb592ebef90a7ad5046391a87d62"
      }
    }
  },
  "nbformat": 4,
  "nbformat_minor": 0
}
